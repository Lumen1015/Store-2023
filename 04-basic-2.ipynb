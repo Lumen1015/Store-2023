{
 "cells": [
  {
   "cell_type": "code",
   "execution_count": 1,
   "metadata": {},
   "outputs": [
    {
     "ename": "TypeError",
     "evalue": "'type' object is not iterable",
     "output_type": "error",
     "traceback": [
      "\u001b[1;31m---------------------------------------------------------------------------\u001b[0m",
      "\u001b[1;31mTypeError\u001b[0m                                 Traceback (most recent call last)",
      "Cell \u001b[1;32mIn[1], line 17\u001b[0m\n\u001b[0;32m     14\u001b[0m target_name \u001b[39m=\u001b[39m \u001b[39m\"\u001b[39m\u001b[39m张三\u001b[39m\u001b[39m\"\u001b[39m  \n\u001b[0;32m     15\u001b[0m target_github \u001b[39m=\u001b[39m \u001b[39mNone\u001b[39;00m  \n\u001b[1;32m---> 17\u001b[0m \u001b[39mfor\u001b[39;00m item \u001b[39min\u001b[39;00m \u001b[39mlist\u001b[39m:  \n\u001b[0;32m     18\u001b[0m     \u001b[39mif\u001b[39;00m item[\u001b[39m\"\u001b[39m\u001b[39m姓名\u001b[39m\u001b[39m\"\u001b[39m] \u001b[39m==\u001b[39m target_name:  \n\u001b[0;32m     19\u001b[0m         target_github \u001b[39m=\u001b[39m item[\u001b[39m\"\u001b[39m\u001b[39mGitHub仓库地址\u001b[39m\u001b[39m\"\u001b[39m]  \n",
      "\u001b[1;31mTypeError\u001b[0m: 'type' object is not iterable"
     ]
    }
   ],
   "source": [
    "student = [  \n",
    "    {\"姓名\": \"张三\", \"学号\": \"20180001\", \"GitHub仓库地址\": \"https://github.com/zhangsan\"},  \n",
    "    {\"姓名\": \"李四\", \"学号\": \"20180002\", \"GitHub仓库地址\": \"https://github.com/lisi\"},  \n",
    "    {\"姓名\": \"王五\", \"学号\": \"20180003\", \"GitHub仓库地址\": \"https://github.com/wangwu\"},  \n",
    "    {\"姓名\": \"赵六\", \"学号\": \"20180004\", \"GitHub仓库地址\": \"https://github.com/zhaoliu\"},  \n",
    "    {\"姓名\": \"钱七\", \"学号\": \"20180005\", \"GitHub仓库地址\": \"https://github.com/qianqi\"},  \n",
    "    {\"姓名\": \"孙八\", \"学号\": \"20180006\", \"GitHub仓库地址\": \"https://github.com/sunba\"},  \n",
    "    {\"姓名\": \"周九\", \"学号\": \"20180007\", \"GitHub仓库地址\": \"https://github.com/zhoujiu\"},  \n",
    "    {\"姓名\": \"吴十\", \"学号\": \"20180008\", \"GitHub仓库地址\": \"https://github.com/wushi\"},  \n",
    "    {\"姓名\": \"陈十一\", \"学号\": \"20180009\", \"GitHub仓库地址\": \"https://github.com/chenshiyi\"},  \n",
    "    {\"姓名\": \"肖十二\", \"学号\": \"20180010\", \"GitHub仓库地址\": \"https://github.com/xiaoshier\"}  \n",
    "]  \n",
    "  \n",
    "target_name = \"张三\"  \n",
    "target_github = None  \n",
    "  \n",
    "for item in list:  \n",
    "    if item[\"姓名\"] == target_name:  \n",
    "        target_github = item[\"GitHub仓库地址\"]  \n",
    "        break  \n",
    "  \n",
    "if target_github is not None:  \n",
    "    print(f\"找到姓名为{target_name}的同学的GitHub仓库地址：{target_github}\")  \n",
    "else:  \n",
    "    print(f\"未找到姓名为{target_name}的同学的GitHub仓库地址\")"
   ]
  },
  {
   "cell_type": "code",
   "execution_count": 2,
   "metadata": {},
   "outputs": [],
   "source": [
    "def get_repo_by_name(name,date):\n",
    "  for i in date:\n",
    "    if i[\"姓名\"]==name:\n",
    "        print(i[\"github仓库地址\"])"
   ]
  },
  {
   "cell_type": "code",
   "execution_count": 3,
   "metadata": {},
   "outputs": [
    {
     "ename": "NameError",
     "evalue": "name 'students' is not defined",
     "output_type": "error",
     "traceback": [
      "\u001b[1;31m---------------------------------------------------------------------------\u001b[0m",
      "\u001b[1;31mNameError\u001b[0m                                 Traceback (most recent call last)",
      "Cell \u001b[1;32mIn[3], line 1\u001b[0m\n\u001b[1;32m----> 1\u001b[0m get_repo_by_name(\u001b[39m'\u001b[39m\u001b[39m李四\u001b[39m\u001b[39m'\u001b[39m,students)\n",
      "\u001b[1;31mNameError\u001b[0m: name 'students' is not defined"
     ]
    }
   ],
   "source": [
    "get_repo_by_name('李四',students)"
   ]
  },
  {
   "cell_type": "code",
   "execution_count": 4,
   "metadata": {},
   "outputs": [
    {
     "ename": "NameError",
     "evalue": "name 'students' is not defined",
     "output_type": "error",
     "traceback": [
      "\u001b[1;31m---------------------------------------------------------------------------\u001b[0m",
      "\u001b[1;31mNameError\u001b[0m                                 Traceback (most recent call last)",
      "Cell \u001b[1;32mIn[4], line 1\u001b[0m\n\u001b[1;32m----> 1\u001b[0m get_repo_by_name(name\u001b[39m=\u001b[39m\u001b[39m'\u001b[39m\u001b[39m李四\u001b[39m\u001b[39m'\u001b[39m,date\u001b[39m=\u001b[39mstudents)\n",
      "\u001b[1;31mNameError\u001b[0m: name 'students' is not defined"
     ]
    }
   ],
   "source": [
    "get_repo_by_name(name='李四',date=students)"
   ]
  }
 ],
 "metadata": {
  "kernelspec": {
   "display_name": "Python 3",
   "language": "python",
   "name": "python3"
  },
  "language_info": {
   "codemirror_mode": {
    "name": "ipython",
    "version": 3
   },
   "file_extension": ".py",
   "mimetype": "text/x-python",
   "name": "python",
   "nbconvert_exporter": "python",
   "pygments_lexer": "ipython3",
   "version": "3.8.10"
  },
  "orig_nbformat": 4
 },
 "nbformat": 4,
 "nbformat_minor": 2
}
