{
 "cells": [
  {
   "cell_type": "code",
   "execution_count": 1,
   "metadata": {},
   "outputs": [
    {
     "ename": "ModuleNotFoundError",
     "evalue": "No module named 'pandas'",
     "output_type": "error",
     "traceback": [
      "\u001b[1;31m---------------------------------------------------------------------------\u001b[0m",
      "\u001b[1;31mModuleNotFoundError\u001b[0m                       Traceback (most recent call last)",
      "Cell \u001b[1;32mIn[1], line 1\u001b[0m\n\u001b[1;32m----> 1\u001b[0m \u001b[39mimport\u001b[39;00m \u001b[39mpandas\u001b[39;00m \u001b[39mas\u001b[39;00m \u001b[39mpd\u001b[39;00m\n\u001b[0;32m      3\u001b[0m \u001b[39m# 读取Excel文件\u001b[39;00m\n\u001b[0;32m      4\u001b[0m 原始数据 \u001b[39m=\u001b[39m \u001b[39mR\u001b[39m\u001b[39m'\u001b[39m\u001b[39m000_《统计与数据分析》课程第一次作业收集_提交统计.xlsx\u001b[39m\u001b[39m'\u001b[39m  \n",
      "\u001b[1;31mModuleNotFoundError\u001b[0m: No module named 'pandas'"
     ]
    }
   ],
   "source": [
    "import pandas as pd\n",
    "\n",
    "# 读取Excel文件\n",
    "原始数据 = R'000_《统计与数据分析》课程第一次作业收集_提交统计.xlsx'  \n",
    "工作表 = '提交清单'  # 替换为你要读取的工作表名称\n",
    "列名列表 = ['姓名', '学号', 'Github仓库地址']  # 替换为你要读取的列名列表\n",
    "\n",
    "# 读取指定列数据\n",
    "df = pd.read_excel(原始数据, sheet_name=工作表, usecols=列名列表)\n",
    "\n",
    "# 将数据转化为字典\n",
    "学生信息 = df.to_dict(orient='records')\n",
    "\n",
    "print(学生信息)\n"
   ]
  },
  {
   "cell_type": "code",
   "execution_count": 2,
   "metadata": {},
   "outputs": [
    {
     "ename": "NameError",
     "evalue": "name '学生信息' is not defined",
     "output_type": "error",
     "traceback": [
      "\u001b[1;31m---------------------------------------------------------------------------\u001b[0m",
      "\u001b[1;31mNameError\u001b[0m                                 Traceback (most recent call last)",
      "Cell \u001b[1;32mIn[2], line 1\u001b[0m\n\u001b[1;32m----> 1\u001b[0m \u001b[39mfor\u001b[39;00m item \u001b[39min\u001b[39;00m 学生信息:\n\u001b[0;32m      2\u001b[0m     \u001b[39mif\u001b[39;00m item[\u001b[39m\"\u001b[39m\u001b[39m姓名\u001b[39m\u001b[39m\"\u001b[39m] \u001b[39m==\u001b[39m \u001b[39m\"\u001b[39m\u001b[39m史竹然\u001b[39m\u001b[39m\"\u001b[39m:\n\u001b[0;32m      3\u001b[0m         \u001b[39mprint\u001b[39m(item[\u001b[39m\"\u001b[39m\u001b[39mGithub仓库地址\u001b[39m\u001b[39m\"\u001b[39m])\n",
      "\u001b[1;31mNameError\u001b[0m: name '学生信息' is not defined"
     ]
    }
   ],
   "source": [
    "for item in 学生信息:\n",
    "    if item[\"姓名\"] == \"史竹然\":\n",
    "        print(item[\"Github仓库地址\"])"
   ]
  },
  {
   "cell_type": "markdown",
   "metadata": {},
   "source": [
    "# 以上通过一个循环，在给定列表中通过学号查找自己的仓库地址"
   ]
  },
  {
   "cell_type": "code",
   "execution_count": 3,
   "metadata": {},
   "outputs": [],
   "source": [
    "def get_github_url(student_id, student_list):\n",
    "    for student in student_list:\n",
    "        if student['学号'] == student_id:\n",
    "            return student['Github仓库地址']\n",
    "    return None"
   ]
  },
  {
   "cell_type": "code",
   "execution_count": 4,
   "metadata": {},
   "outputs": [
    {
     "data": {
      "text/plain": [
       "'https://github.com/Lumen1015/Store-2023'"
      ]
     },
     "execution_count": 4,
     "metadata": {},
     "output_type": "execute_result"
    }
   ],
   "source": [
    "get_github_url('P221014439', 学生信息)"
   ]
  },
  {
   "cell_type": "markdown",
   "metadata": {},
   "source": [
    "# 以上是通过学号查找仓库信息"
   ]
  },
  {
   "cell_type": "code",
   "execution_count": 4,
   "metadata": {},
   "outputs": [
    {
     "ename": "ModuleNotFoundError",
     "evalue": "No module named 'requests'",
     "output_type": "error",
     "traceback": [
      "\u001b[1;31m---------------------------------------------------------------------------\u001b[0m",
      "\u001b[1;31mModuleNotFoundError\u001b[0m                       Traceback (most recent call last)",
      "Cell \u001b[1;32mIn[4], line 1\u001b[0m\n\u001b[1;32m----> 1\u001b[0m \u001b[39mimport\u001b[39;00m \u001b[39mrequests\u001b[39;00m\n\u001b[0;32m      2\u001b[0m \u001b[39mfrom\u001b[39;00m \u001b[39mdatetime\u001b[39;00m \u001b[39mimport\u001b[39;00m datetime\n\u001b[0;32m      4\u001b[0m \u001b[39mdef\u001b[39;00m \u001b[39mget_push_count\u001b[39m(repo_url):\n\u001b[0;32m      5\u001b[0m     \u001b[39m# 构造API请求URL\u001b[39;00m\n",
      "\u001b[1;31mModuleNotFoundError\u001b[0m: No module named 'requests'"
     ]
    }
   ],
   "source": [
    "import requests\n",
    "from datetime import datetime\n",
    "\n",
    "def get_push_count(repo_url):\n",
    "    # 构造API请求URL\n",
    "    api_url = repo_url.replace(\"https://github.com/\", \"https://api.github.com/repos/\") + \"/commits\"\n",
    "    # 发送API请求\n",
    "    response = requests.get(api_url,verify=False)\n",
    "    # 解析API响应\n",
    "    data = response.json()\n",
    "    # 初始化推送次数和日期\n",
    "    push_count = 0\n",
    "    push_date = None\n",
    "    # 遍历每个提交记录\n",
    "    for commit in data:\n",
    "        # 获取提交时间\n",
    "        commit_time = datetime.strptime(commit['commit']['committer']['date'], '%Y-%m-%dT%H:%M:%SZ')\n",
    "        # 判断是否为最近一次提交\n",
    "        if push_date is None or commit_time > push_date:\n",
    "            push_date = commit_time\n",
    "            push_count = 1\n",
    "        elif commit_time == push_date:\n",
    "            push_count += 1\n",
    "    # 返回推送次数和日期\n",
    "    return push_count, push_date.strftime(\"%Y-%m-%d\")"
   ]
  },
  {
   "cell_type": "code",
   "execution_count": 6,
   "metadata": {},
   "outputs": [],
   "source": [
    "import requests\n",
    "from datetime import datetime\n",
    "\n",
    "def get_push_time(repo_url):\n",
    "    # 构造API请求URL\n",
    "    api_url = repo_url.replace(\"https://github.com/\", \"https://api.github.com/repos/\") + \"/commits\"\n",
    "    # 发送API请求\n",
    "    response = requests.get(api_url,verify=False)\n",
    "    # 解析API响应\n",
    "    data = response.json()\n",
    "    # 初始化推送时间列表\n",
    "    push_times = []\n",
    "    # 遍历每个提交记录\n",
    "    for commit in data:\n",
    "        # 获取提交时间\n",
    "        commit_time = datetime.strptime(commit['commit']['committer']['date'], '%Y-%m-%dT%H:%M:%SZ')\n",
    "        # 将推送时间添加到列表中\n",
    "        push_times.append(commit_time)\n",
    "    # 返回推送时间列表\n",
    "    return push_times\n"
   ]
  },
  {
   "cell_type": "code",
   "execution_count": 7,
   "metadata": {},
   "outputs": [
    {
     "name": "stderr",
     "output_type": "stream",
     "text": [
      "c:\\Users\\lenovo\\AppData\\Local\\Programs\\Python\\Python38\\lib\\site-packages\\urllib3\\connectionpool.py:1095: InsecureRequestWarning: Unverified HTTPS request is being made to host 'api.github.com'. Adding certificate verification is strongly advised. See: https://urllib3.readthedocs.io/en/latest/advanced-usage.html#tls-warnings\n",
      "  warnings.warn(\n"
     ]
    },
    {
     "data": {
      "text/plain": [
       "(1, '2023-09-07')"
      ]
     },
     "execution_count": 7,
     "metadata": {},
     "output_type": "execute_result"
    }
   ],
   "source": [
    "get_push_count('https://github.com/Lumen1015/Store-2023')"
   ]
  },
  {
   "cell_type": "code",
   "execution_count": 8,
   "metadata": {},
   "outputs": [
    {
     "name": "stderr",
     "output_type": "stream",
     "text": [
      "c:\\Users\\lenovo\\AppData\\Local\\Programs\\Python\\Python38\\lib\\site-packages\\urllib3\\connectionpool.py:1095: InsecureRequestWarning: Unverified HTTPS request is being made to host 'api.github.com'. Adding certificate verification is strongly advised. See: https://urllib3.readthedocs.io/en/latest/advanced-usage.html#tls-warnings\n",
      "  warnings.warn(\n"
     ]
    },
    {
     "data": {
      "text/plain": [
       "[datetime.datetime(2023, 9, 7, 2, 25, 9),\n",
       " datetime.datetime(2023, 8, 31, 2, 32, 19),\n",
       " datetime.datetime(2023, 8, 31, 2, 31, 57),\n",
       " datetime.datetime(2023, 8, 30, 14, 20, 13),\n",
       " datetime.datetime(2023, 8, 30, 14, 11, 54),\n",
       " datetime.datetime(2023, 8, 30, 14, 1, 28)]"
      ]
     },
     "execution_count": 8,
     "metadata": {},
     "output_type": "execute_result"
    }
   ],
   "source": [
    "get_push_time('https://github.com/Lumen1015/Store-2023')"
   ]
  },
  {
   "cell_type": "code",
   "execution_count": 9,
   "metadata": {},
   "outputs": [
    {
     "name": "stderr",
     "output_type": "stream",
     "text": [
      "c:\\Users\\lenovo\\AppData\\Local\\Programs\\Python\\Python38\\lib\\site-packages\\urllib3\\connectionpool.py:1095: InsecureRequestWarning: Unverified HTTPS request is being made to host 'api.github.com'. Adding certificate verification is strongly advised. See: https://urllib3.readthedocs.io/en/latest/advanced-usage.html#tls-warnings\n",
      "  warnings.warn(\n"
     ]
    },
    {
     "data": {
      "text/plain": [
       "[datetime.datetime(2023, 9, 7, 2, 25, 9),\n",
       " datetime.datetime(2023, 8, 31, 2, 32, 19),\n",
       " datetime.datetime(2023, 8, 31, 2, 31, 57),\n",
       " datetime.datetime(2023, 8, 30, 14, 20, 13),\n",
       " datetime.datetime(2023, 8, 30, 14, 11, 54),\n",
       " datetime.datetime(2023, 8, 30, 14, 1, 28)]"
      ]
     },
     "execution_count": 9,
     "metadata": {},
     "output_type": "execute_result"
    }
   ],
   "source": [
    "get_push_time('https://github.com/Lumen1015/Store-2023')"
   ]
  },
  {
   "cell_type": "code",
   "execution_count": 12,
   "metadata": {},
   "outputs": [],
   "source": [
    "import datetime\n",
    "def check_submission_time(year,month,day,hour,minuite):\n",
    "    # 获取第一次作业提交的时间\n",
    "    get_push_time = datetime.datetime(2023, 8, 30, 14, 1, 28)\n",
    "\n",
    "    # 设置截止日期\n",
    "    deadline = datetime.datetime(2023, 8, 30, 23, 55)\n",
    "\n",
    "    # 检查当前时间是否在截止日期之前\n",
    "    if get_push_time < deadline:\n",
    "        return 10\n",
    "    else:\n",
    "        return 0"
   ]
  },
  {
   "cell_type": "code",
   "execution_count": 14,
   "metadata": {},
   "outputs": [
    {
     "name": "stdout",
     "output_type": "stream",
     "text": [
      "10\n"
     ]
    }
   ],
   "source": [
    "print(check_submission_time(2023, 8, 30, 14, 1))"
   ]
  },
  {
   "cell_type": "markdown",
   "metadata": {},
   "source": [
    "# 以上是我的作业，好耶"
   ]
  }
 ],
 "metadata": {
  "kernelspec": {
   "display_name": "Python 3",
   "language": "python",
   "name": "python3"
  },
  "language_info": {
   "codemirror_mode": {
    "name": "ipython",
    "version": 3
   },
   "file_extension": ".py",
   "mimetype": "text/x-python",
   "name": "python",
   "nbconvert_exporter": "python",
   "pygments_lexer": "ipython3",
   "version": "3.8.10"
  },
  "orig_nbformat": 4
 },
 "nbformat": 4,
 "nbformat_minor": 2
}
