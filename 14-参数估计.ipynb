{
 "cells": [
  {
   "cell_type": "code",
   "execution_count": 1,
   "metadata": {},
   "outputs": [
    {
     "ename": "ModuleNotFoundError",
     "evalue": "No module named 'scipy'",
     "output_type": "error",
     "traceback": [
      "\u001b[1;31m---------------------------------------------------------------------------\u001b[0m",
      "\u001b[1;31mModuleNotFoundError\u001b[0m                       Traceback (most recent call last)",
      "Cell \u001b[1;32mIn[1], line 2\u001b[0m\n\u001b[0;32m      1\u001b[0m \u001b[39mimport\u001b[39;00m \u001b[39mpandas\u001b[39;00m \u001b[39mas\u001b[39;00m \u001b[39mpd\u001b[39;00m\n\u001b[1;32m----> 2\u001b[0m \u001b[39mfrom\u001b[39;00m \u001b[39mscipy\u001b[39;00m \u001b[39mimport\u001b[39;00m stats\n\u001b[0;32m      4\u001b[0m \u001b[39m#打开数据文件\u001b[39;00m\n\u001b[0;32m      5\u001b[0m file_path \u001b[39m=\u001b[39m \u001b[39mR\u001b[39m\u001b[39m\"\u001b[39m\u001b[39mdata\u001b[39m\u001b[39m\\\u001b[39m\u001b[39mmovie_data_cleaned.csv\u001b[39m\u001b[39m\"\u001b[39m\n",
      "\u001b[1;31mModuleNotFoundError\u001b[0m: No module named 'scipy'"
     ]
    }
   ],
   "source": [
    "import pandas as pd\n",
    "from scipy import stats\n",
    "\n",
    "#打开数据文件\n",
    "file_path = R\"data\\movie_data_cleaned.csv\"\n",
    "df_movies = pd.read_csv(file_path)"
   ]
  },
  {
   "cell_type": "code",
   "execution_count": null,
   "metadata": {},
   "outputs": [],
   "source": [
    "#计算均值和标准误差\n",
    "mean = df_movies['average'].mean()\n",
    "std_error = stats.sem(df_movies['average'])\n",
    "#设定置信水平\n",
    "confidence_level = 0.95\n",
    "#设定自由度\n",
    "df = len(df_movies['average'])\n",
    "#计算置信区间\n",
    "confidence_interval = stats.t.interval(confidence_level,df,loc=mean)\n",
    "scale=std_error\n",
    "#输出结果\n",
    "print(F\"均值：{mean:.2f}\")\n",
    "print(F\"均值在置信水平{confidence_level}下的置信区间为:\"confidence_interval)"
   ]
  },
  {
   "cell_type": "code",
   "execution_count": 36,
   "metadata": {},
   "outputs": [
    {
     "name": "stdout",
     "output_type": "stream",
     "text": [
      "总体均值: 22108.013820102464\n",
      "已随机抽取100个样本数据。\n",
      "\n",
      "样本均值: nan\n",
      "95%置信水平的置信区间: (nan, nan)\n"
     ]
    }
   ],
   "source": [
    "import pandas as pd  \n",
    "import numpy as np\n",
    "\n",
    "# 读取CSV文件  \n",
    "df = pd.read_csv(R'data\\movie_data_cleaned.csv')  \n",
    "  \n",
    "  \n",
    "# 计算总体的均值 \n",
    "\n",
    "  # 选择所有的数值列，并计算它们的均值  \n",
    "numeric_cols = df.select_dtypes(include=[np.number]).columns  \n",
    "overall_mean = df[numeric_cols].mean().mean()  # 先计算每列的均值，再计算所有均值的均值  \n",
    "  \n",
    "print(f\"总体均值: {overall_mean}\")\n",
    "  \n",
    "  \n",
    "# 从总体中随机抽取100行数据\n",
    "  \n",
    "#展平数组  \n",
    "data_array_flattened = data_array.flatten()  \n",
    "  \n",
    "# 设置样本大小  \n",
    "sample_size = 100  \n",
    "  \n",
    "# 从数据中随机抽取样本  \n",
    "sample_data = np.random.choice(data_array_flattened, size=sample_size, replace=False)  \n",
    "  \n",
    "print(f\"已随机抽取{sample_size}个样本数据。\\n\")\n",
    "  \n",
    "# 计算该样本的均值  \n",
    "sample_mean = np.mean(sample_data)  \n",
    "print(f\"样本均值: {sample_mean}\")  \n",
    "\n",
    "#计算95%置信水平对应的置信区间  \n",
    "# 使用 t-distribution，因为我们不知道总体的标准差，所以使用样本的标准差来估计\n",
    "  \n",
    "import numpy as np  \n",
    "import scipy.stats as stats\n",
    "\n",
    "sample_std = np.std(sample_data, ddof=1)  # ddof=1 是为了得到无偏估计  \n",
    "sample_se = sample_std / np.sqrt(sample_size)  # 标准误差  \n",
    "confidence_level = 0.95  \n",
    "t_value = stats.t.ppf((1 + confidence_level) / 2, df=sample_size-1)  # t-distribution 的分位数函数  \n",
    "confidence_interval = (sample_mean - t_value * sample_se, sample_mean + t_value * sample_se)  \n",
    "print(f\"95%置信水平的置信区间: ({confidence_interval[0]:.4f}, {confidence_interval[1]:.4f})\")\n"
   ]
  }
 ],
 "metadata": {
  "kernelspec": {
   "display_name": "Python 3",
   "language": "python",
   "name": "python3"
  },
  "language_info": {
   "codemirror_mode": {
    "name": "ipython",
    "version": 3
   },
   "file_extension": ".py",
   "mimetype": "text/x-python",
   "name": "python",
   "nbconvert_exporter": "python",
   "pygments_lexer": "ipython3",
   "version": "3.8.10"
  },
  "orig_nbformat": 4
 },
 "nbformat": 4,
 "nbformat_minor": 2
}
